{
 "cells": [
  {
   "cell_type": "code",
   "execution_count": null,
   "id": "initial_id",
   "metadata": {
    "collapsed": true
   },
   "outputs": [],
   "source": [
    "from mmocr.apis import MMOCRInferencer, TextDetInferencer\n",
    "import cv2\n",
    "from utils import cv2_imshow\n",
    "db = TextDetInferencer(model=\"DBNet\")"
   ]
  },
  {
   "cell_type": "code",
   "outputs": [],
   "source": [
    "img_pth = '../extra/images/Screenshot from 2024-01-31 11-16-33.png'\n",
    "data_db = db(img_pth)\n",
    "\n",
    "image = cv2.imread(img_pth, cv2.IMREAD_COLOR)\n",
    "img = image.copy()\n",
    "COLOR = [(255, 0, 0), (0, 255, 0), (0, 0, 255)]"
   ],
   "metadata": {
    "collapsed": false
   },
   "id": "cba77a4f43f33e67"
  },
  {
   "cell_type": "code",
   "outputs": [],
   "source": [
    "for pt1 in data_db[\"predictions\"][0][\"polygons\"]:\n",
    "    cv2.rectangle(img, (int(pt1[0]), int(pt1[1])), (int(pt1[4]), int(pt1[5])), (0, 255, 0), -1)\n",
    "#     cv2.circle(img, (int(pt1[i]), int(pt1[i+1])), 25, COLOR[i%3], -1)\n",
    "\n",
    "cv2_imshow(img, 'cc', 0)\n",
    "cv2_imshow(image[int(pt1[5]):int(pt1[1]), int(pt1[0]):int(pt1[4])], 'cc', 0)\n"
   ],
   "metadata": {
    "collapsed": false
   },
   "id": "e87c50c56e09a0af"
  },
  {
   "cell_type": "code",
   "outputs": [],
   "source": [
    "import easyocr\n",
    "\n",
    "reader = easyocr.Reader(['bn'])\n",
    "pt1 = data_db[\"predictions\"][0][\"polygons\"][29]\n",
    "text = []\n",
    "for pt1 in data_db[\"predictions\"][0][\"polygons\"]:\n",
    "    try:\n",
    "        imm = image[int(pt1[5]):int(pt1[1] + 10), int(pt1[0]):int(pt1[4])]\n",
    "        text.append(reader.recognize(imm)[0][1])\n",
    "    except:\n",
    "        continue\n",
    "text\n",
    "import matplotlib.pyplot as plt\n",
    "\n",
    "imgplot = plt.imshow(imm)\n",
    "plt.show()\n",
    "text"
   ],
   "metadata": {
    "collapsed": false
   },
   "id": "ed9e993eec428512"
  }
 ],
 "metadata": {
  "kernelspec": {
   "display_name": "Python 3",
   "language": "python",
   "name": "python3"
  },
  "language_info": {
   "codemirror_mode": {
    "name": "ipython",
    "version": 2
   },
   "file_extension": ".py",
   "mimetype": "text/x-python",
   "name": "python",
   "nbconvert_exporter": "python",
   "pygments_lexer": "ipython2",
   "version": "2.7.6"
  }
 },
 "nbformat": 4,
 "nbformat_minor": 5
}
